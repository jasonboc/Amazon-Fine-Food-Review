{
 "cells": [
  {
   "cell_type": "code",
   "execution_count": 2,
   "metadata": {
    "ExecuteTime": {
     "end_time": "2020-12-08T22:25:37.973647Z",
     "start_time": "2020-12-08T22:25:24.831053Z"
    }
   },
   "outputs": [],
   "source": [
    "import pandas as pd\n",
    "from sklearn.feature_extraction.text import CountVectorizer\n",
    "from sklearn.feature_extraction.text import TfidfVectorizer\n",
    "from sklearn.decomposition import LatentDirichletAllocation\n",
    "from sklearn.model_selection import GridSearchCV"
   ]
  },
  {
   "cell_type": "code",
   "execution_count": 3,
   "metadata": {
    "ExecuteTime": {
     "end_time": "2020-12-08T22:25:43.294381Z",
     "start_time": "2020-12-08T22:25:37.981644Z"
    }
   },
   "outputs": [],
   "source": [
    "df=pd.read_pickle('data.pkl')"
   ]
  },
  {
   "cell_type": "code",
   "execution_count": 16,
   "metadata": {
    "ExecuteTime": {
     "end_time": "2020-12-09T01:23:03.390221Z",
     "start_time": "2020-12-09T01:23:03.270303Z"
    }
   },
   "outputs": [
    {
     "data": {
      "text/html": [
       "<div>\n",
       "<style scoped>\n",
       "    .dataframe tbody tr th:only-of-type {\n",
       "        vertical-align: middle;\n",
       "    }\n",
       "\n",
       "    .dataframe tbody tr th {\n",
       "        vertical-align: top;\n",
       "    }\n",
       "\n",
       "    .dataframe thead th {\n",
       "        text-align: right;\n",
       "    }\n",
       "</style>\n",
       "<table border=\"1\" class=\"dataframe\">\n",
       "  <thead>\n",
       "    <tr style=\"text-align: right;\">\n",
       "      <th></th>\n",
       "      <th>Rating</th>\n",
       "      <th>Text</th>\n",
       "      <th>Year</th>\n",
       "      <th>Month</th>\n",
       "      <th>text_clean</th>\n",
       "      <th>text_len</th>\n",
       "    </tr>\n",
       "  </thead>\n",
       "  <tbody>\n",
       "    <tr>\n",
       "      <th>0</th>\n",
       "      <td>5</td>\n",
       "      <td>I have bought several of the Vitality canned d...</td>\n",
       "      <td>2011</td>\n",
       "      <td>4</td>\n",
       "      <td>[bought, several, vitality, canned, dog, food,...</td>\n",
       "      <td>263</td>\n",
       "    </tr>\n",
       "    <tr>\n",
       "      <th>1</th>\n",
       "      <td>1</td>\n",
       "      <td>Product arrived labeled as Jumbo Salted Peanut...</td>\n",
       "      <td>2012</td>\n",
       "      <td>9</td>\n",
       "      <td>[product, arrived, labeled, jumbo, salted, pea...</td>\n",
       "      <td>190</td>\n",
       "    </tr>\n",
       "    <tr>\n",
       "      <th>2</th>\n",
       "      <td>4</td>\n",
       "      <td>This is a confection that has been around a fe...</td>\n",
       "      <td>2008</td>\n",
       "      <td>8</td>\n",
       "      <td>[confection, around, century, light, pillowy, ...</td>\n",
       "      <td>509</td>\n",
       "    </tr>\n",
       "    <tr>\n",
       "      <th>3</th>\n",
       "      <td>2</td>\n",
       "      <td>If you are looking for the secret ingredient i...</td>\n",
       "      <td>2011</td>\n",
       "      <td>6</td>\n",
       "      <td>[looking, secret, ingredient, robitussin, beli...</td>\n",
       "      <td>219</td>\n",
       "    </tr>\n",
       "    <tr>\n",
       "      <th>4</th>\n",
       "      <td>5</td>\n",
       "      <td>Great taffy at a great price.  There was a wid...</td>\n",
       "      <td>2012</td>\n",
       "      <td>10</td>\n",
       "      <td>[great, taffy, great, price, wide, assortment,...</td>\n",
       "      <td>140</td>\n",
       "    </tr>\n",
       "  </tbody>\n",
       "</table>\n",
       "</div>"
      ],
      "text/plain": [
       "   Rating                                               Text  Year  Month  \\\n",
       "0       5  I have bought several of the Vitality canned d...  2011      4   \n",
       "1       1  Product arrived labeled as Jumbo Salted Peanut...  2012      9   \n",
       "2       4  This is a confection that has been around a fe...  2008      8   \n",
       "3       2  If you are looking for the secret ingredient i...  2011      6   \n",
       "4       5  Great taffy at a great price.  There was a wid...  2012     10   \n",
       "\n",
       "                                          text_clean  text_len  \n",
       "0  [bought, several, vitality, canned, dog, food,...       263  \n",
       "1  [product, arrived, labeled, jumbo, salted, pea...       190  \n",
       "2  [confection, around, century, light, pillowy, ...       509  \n",
       "3  [looking, secret, ingredient, robitussin, beli...       219  \n",
       "4  [great, taffy, great, price, wide, assortment,...       140  "
      ]
     },
     "execution_count": 16,
     "metadata": {},
     "output_type": "execute_result"
    }
   ],
   "source": [
    "df.head()"
   ]
  },
  {
   "cell_type": "markdown",
   "metadata": {},
   "source": [
    "## TFIDF\n",
    "Main Goal: Measure how important a word or phrase is within a collection of documents. It essentially weigh down terms that appear frequently and scale up unique terms.\n",
    "\n",
    "TF Term Frequency how often a term occurs\n",
    "\n",
    "IDF Inverse Document Frequency how important a term is\n",
    "\n",
    "In our case, \n",
    "1. discard words that appear in > 80% of the reviews\n",
    "2. discard words that appear in < 10 reviews"
   ]
  },
  {
   "cell_type": "code",
   "execution_count": 5,
   "metadata": {
    "ExecuteTime": {
     "end_time": "2020-12-08T22:49:09.722788Z",
     "start_time": "2020-12-08T22:49:04.463821Z"
    }
   },
   "outputs": [],
   "source": [
    "# Get the review with 1-star\n",
    "review = (list(df[df.Rating==1].text_clean.map(lambda x : ' '.join(x))) )\n",
    "# Perform a TFIDF Transformation of the review with an n-gram range of 1-2 and discard words appear in >80% or <10 reviews\n",
    "tv = TfidfVectorizer(ngram_range=(1, 2), stop_words='english',max_df=0.8,min_df=10)\n",
    "X_description = tv.fit_transform(review)"
   ]
  },
  {
   "cell_type": "markdown",
   "metadata": {},
   "source": [
    "### Observing the TFIDF Weights"
   ]
  },
  {
   "cell_type": "code",
   "execution_count": 6,
   "metadata": {
    "ExecuteTime": {
     "end_time": "2020-12-08T22:49:11.280191Z",
     "start_time": "2020-12-08T22:49:11.137283Z"
    }
   },
   "outputs": [
    {
     "data": {
      "text/html": [
       "<div>\n",
       "<style scoped>\n",
       "    .dataframe tbody tr th:only-of-type {\n",
       "        vertical-align: middle;\n",
       "    }\n",
       "\n",
       "    .dataframe tbody tr th {\n",
       "        vertical-align: top;\n",
       "    }\n",
       "\n",
       "    .dataframe thead th {\n",
       "        text-align: right;\n",
       "    }\n",
       "</style>\n",
       "<table border=\"1\" class=\"dataframe\">\n",
       "  <thead>\n",
       "    <tr style=\"text-align: right;\">\n",
       "      <th></th>\n",
       "      <th>tfidf</th>\n",
       "    </tr>\n",
       "  </thead>\n",
       "  <tbody>\n",
       "    <tr>\n",
       "      <th>like</th>\n",
       "      <td>2.094545</td>\n",
       "    </tr>\n",
       "    <tr>\n",
       "      <th>product</th>\n",
       "      <td>2.167880</td>\n",
       "    </tr>\n",
       "    <tr>\n",
       "      <th>taste</th>\n",
       "      <td>2.249020</td>\n",
       "    </tr>\n",
       "    <tr>\n",
       "      <th>br</th>\n",
       "      <td>2.618644</td>\n",
       "    </tr>\n",
       "    <tr>\n",
       "      <th>good</th>\n",
       "      <td>2.708697</td>\n",
       "    </tr>\n",
       "    <tr>\n",
       "      <th>dont</th>\n",
       "      <td>2.748679</td>\n",
       "    </tr>\n",
       "    <tr>\n",
       "      <th>buy</th>\n",
       "      <td>2.786550</td>\n",
       "    </tr>\n",
       "    <tr>\n",
       "      <th>flavor</th>\n",
       "      <td>2.863429</td>\n",
       "    </tr>\n",
       "    <tr>\n",
       "      <th>food</th>\n",
       "      <td>2.934591</td>\n",
       "    </tr>\n",
       "    <tr>\n",
       "      <th>time</th>\n",
       "      <td>3.003943</td>\n",
       "    </tr>\n",
       "  </tbody>\n",
       "</table>\n",
       "</div>"
      ],
      "text/plain": [
       "            tfidf\n",
       "like     2.094545\n",
       "product  2.167880\n",
       "taste    2.249020\n",
       "br       2.618644\n",
       "good     2.708697\n",
       "dont     2.748679\n",
       "buy      2.786550\n",
       "flavor   2.863429\n",
       "food     2.934591\n",
       "time     3.003943"
      ]
     },
     "execution_count": 6,
     "metadata": {},
     "output_type": "execute_result"
    }
   ],
   "source": [
    "#  create a dictionary mapping the tokens to their tfidf values\n",
    "tfidf = dict(zip(tv.get_feature_names(), tv.idf_))\n",
    "tfidf = pd.DataFrame(columns=['tfidf']).from_dict(\n",
    "                    dict(tfidf), orient='index')\n",
    "tfidf.columns = ['tfidf']\n",
    "\n",
    "# Lowest TFIDF Scores\n",
    "tfidf.sort_values(by=['tfidf'], ascending=True).head(10)"
   ]
  },
  {
   "cell_type": "code",
   "execution_count": 7,
   "metadata": {
    "ExecuteTime": {
     "end_time": "2020-12-08T22:49:34.928876Z",
     "start_time": "2020-12-08T22:49:34.908971Z"
    }
   },
   "outputs": [
    {
     "data": {
      "text/html": [
       "<div>\n",
       "<style scoped>\n",
       "    .dataframe tbody tr th:only-of-type {\n",
       "        vertical-align: middle;\n",
       "    }\n",
       "\n",
       "    .dataframe tbody tr th {\n",
       "        vertical-align: top;\n",
       "    }\n",
       "\n",
       "    .dataframe thead th {\n",
       "        text-align: right;\n",
       "    }\n",
       "</style>\n",
       "<table border=\"1\" class=\"dataframe\">\n",
       "  <thead>\n",
       "    <tr style=\"text-align: right;\">\n",
       "      <th></th>\n",
       "      <th>tfidf</th>\n",
       "    </tr>\n",
       "  </thead>\n",
       "  <tbody>\n",
       "    <tr>\n",
       "      <th>mg caffeine</th>\n",
       "      <td>9.466263</td>\n",
       "    </tr>\n",
       "    <tr>\n",
       "      <th>creamy like</th>\n",
       "      <td>9.466263</td>\n",
       "    </tr>\n",
       "    <tr>\n",
       "      <th>bag pricecomparing</th>\n",
       "      <td>9.466263</td>\n",
       "    </tr>\n",
       "    <tr>\n",
       "      <th>pop time</th>\n",
       "      <td>9.466263</td>\n",
       "    </tr>\n",
       "    <tr>\n",
       "      <th>seriously buy</th>\n",
       "      <td>9.466263</td>\n",
       "    </tr>\n",
       "    <tr>\n",
       "      <th>flavored cup</th>\n",
       "      <td>9.466263</td>\n",
       "    </tr>\n",
       "    <tr>\n",
       "      <th>seriously ill</th>\n",
       "      <td>9.466263</td>\n",
       "    </tr>\n",
       "    <tr>\n",
       "      <th>seriously like</th>\n",
       "      <td>9.466263</td>\n",
       "    </tr>\n",
       "    <tr>\n",
       "      <th>package contained</th>\n",
       "      <td>9.466263</td>\n",
       "    </tr>\n",
       "    <tr>\n",
       "      <th>understand company</th>\n",
       "      <td>9.466263</td>\n",
       "    </tr>\n",
       "  </tbody>\n",
       "</table>\n",
       "</div>"
      ],
      "text/plain": [
       "                       tfidf\n",
       "mg caffeine         9.466263\n",
       "creamy like         9.466263\n",
       "bag pricecomparing  9.466263\n",
       "pop time            9.466263\n",
       "seriously buy       9.466263\n",
       "flavored cup        9.466263\n",
       "seriously ill       9.466263\n",
       "seriously like      9.466263\n",
       "package contained   9.466263\n",
       "understand company  9.466263"
      ]
     },
     "execution_count": 7,
     "metadata": {},
     "output_type": "execute_result"
    }
   ],
   "source": [
    "# HIghest TFIDF Scores\n",
    "tfidf.sort_values(by=['tfidf'], ascending=False).head(10)"
   ]
  },
  {
   "cell_type": "markdown",
   "metadata": {},
   "source": [
    "## Topic Modelling:  Latent Dirichlet Allocation"
   ]
  },
  {
   "cell_type": "markdown",
   "metadata": {},
   "source": [
    "### Grid Search Hyperparameter Tuning\n",
    "Try differnet n_components parameters to find the best number of topics"
   ]
  },
  {
   "cell_type": "code",
   "execution_count": 8,
   "metadata": {
    "ExecuteTime": {
     "end_time": "2020-12-08T23:53:23.308805Z",
     "start_time": "2020-12-08T22:52:43.976252Z"
    }
   },
   "outputs": [
    {
     "name": "stdout",
     "output_type": "stream",
     "text": [
      "Best Model's Parameters:  {'n_components': 3}\n"
     ]
    }
   ],
   "source": [
    "#################################################\n",
    "## Grid Search Hyperparameter Tuning\n",
    "\n",
    "## Define Search Parammeters\n",
    "params = {'n_components': [3,4,5,6,7]}\n",
    "\n",
    "## Do the Grid Search\n",
    "lda = LatentDirichletAllocation()\n",
    "model = GridSearchCV(lda, param_grid=params)\n",
    "model.fit(X_description)\n",
    "\n",
    "## find the best model\n",
    "best_model = model.best_estimator_\n",
    "\n",
    "print(\"Best Model's Parameters: \", model.best_params_)"
   ]
  },
  {
   "cell_type": "code",
   "execution_count": 12,
   "metadata": {
    "ExecuteTime": {
     "end_time": "2020-12-08T23:57:14.121653Z",
     "start_time": "2020-12-08T23:57:14.069566Z"
    }
   },
   "outputs": [
    {
     "data": {
      "text/html": [
       "<div>\n",
       "<style scoped>\n",
       "    .dataframe tbody tr th:only-of-type {\n",
       "        vertical-align: middle;\n",
       "    }\n",
       "\n",
       "    .dataframe tbody tr th {\n",
       "        vertical-align: top;\n",
       "    }\n",
       "\n",
       "    .dataframe thead th {\n",
       "        text-align: right;\n",
       "    }\n",
       "</style>\n",
       "<table border=\"1\" class=\"dataframe\">\n",
       "  <thead>\n",
       "    <tr style=\"text-align: right;\">\n",
       "      <th></th>\n",
       "      <th>Topic 1</th>\n",
       "      <th>Topic 2</th>\n",
       "      <th>Topic 3</th>\n",
       "    </tr>\n",
       "  </thead>\n",
       "  <tbody>\n",
       "    <tr>\n",
       "      <th>0</th>\n",
       "      <td>dog</td>\n",
       "      <td>taste</td>\n",
       "      <td>coffee</td>\n",
       "    </tr>\n",
       "    <tr>\n",
       "      <th>1</th>\n",
       "      <td>treat</td>\n",
       "      <td>like</td>\n",
       "      <td>product</td>\n",
       "    </tr>\n",
       "    <tr>\n",
       "      <th>2</th>\n",
       "      <td>food</td>\n",
       "      <td>br</td>\n",
       "      <td>box</td>\n",
       "    </tr>\n",
       "    <tr>\n",
       "      <th>3</th>\n",
       "      <td>china</td>\n",
       "      <td>flavor</td>\n",
       "      <td>amazon</td>\n",
       "    </tr>\n",
       "    <tr>\n",
       "      <th>4</th>\n",
       "      <td>coffee</td>\n",
       "      <td>product</td>\n",
       "      <td>tea</td>\n",
       "    </tr>\n",
       "    <tr>\n",
       "      <th>5</th>\n",
       "      <td>product</td>\n",
       "      <td>food</td>\n",
       "      <td>like</td>\n",
       "    </tr>\n",
       "    <tr>\n",
       "      <th>6</th>\n",
       "      <td>eat</td>\n",
       "      <td>ingredient</td>\n",
       "      <td>order</td>\n",
       "    </tr>\n",
       "    <tr>\n",
       "      <th>7</th>\n",
       "      <td>like</td>\n",
       "      <td>sugar</td>\n",
       "      <td>taste</td>\n",
       "    </tr>\n",
       "    <tr>\n",
       "      <th>8</th>\n",
       "      <td>chew</td>\n",
       "      <td>good</td>\n",
       "      <td>br</td>\n",
       "    </tr>\n",
       "    <tr>\n",
       "      <th>9</th>\n",
       "      <td>chicken</td>\n",
       "      <td>taste like</td>\n",
       "      <td>price</td>\n",
       "    </tr>\n",
       "    <tr>\n",
       "      <th>10</th>\n",
       "      <td>cat</td>\n",
       "      <td>tried</td>\n",
       "      <td>item</td>\n",
       "    </tr>\n",
       "    <tr>\n",
       "      <th>11</th>\n",
       "      <td>bone</td>\n",
       "      <td>water</td>\n",
       "      <td>bag</td>\n",
       "    </tr>\n",
       "    <tr>\n",
       "      <th>12</th>\n",
       "      <td>pet</td>\n",
       "      <td>cat</td>\n",
       "      <td>buy</td>\n",
       "    </tr>\n",
       "    <tr>\n",
       "      <th>13</th>\n",
       "      <td>baby</td>\n",
       "      <td>dont</td>\n",
       "      <td>ordered</td>\n",
       "    </tr>\n",
       "    <tr>\n",
       "      <th>14</th>\n",
       "      <td>br</td>\n",
       "      <td>really</td>\n",
       "      <td>received</td>\n",
       "    </tr>\n",
       "    <tr>\n",
       "      <th>15</th>\n",
       "      <td>dog food</td>\n",
       "      <td>eat</td>\n",
       "      <td>chocolate</td>\n",
       "    </tr>\n",
       "    <tr>\n",
       "      <th>16</th>\n",
       "      <td>bag</td>\n",
       "      <td>stuff</td>\n",
       "      <td>good</td>\n",
       "    </tr>\n",
       "    <tr>\n",
       "      <th>17</th>\n",
       "      <td>time</td>\n",
       "      <td>try</td>\n",
       "      <td>time</td>\n",
       "    </tr>\n",
       "    <tr>\n",
       "      <th>18</th>\n",
       "      <td>buy</td>\n",
       "      <td>bad</td>\n",
       "      <td>money</td>\n",
       "    </tr>\n",
       "    <tr>\n",
       "      <th>19</th>\n",
       "      <td>bought</td>\n",
       "      <td>drink</td>\n",
       "      <td>dont</td>\n",
       "    </tr>\n",
       "  </tbody>\n",
       "</table>\n",
       "</div>"
      ],
      "text/plain": [
       "     Topic 1     Topic 2    Topic 3\n",
       "0        dog       taste     coffee\n",
       "1      treat        like    product\n",
       "2       food          br        box\n",
       "3      china      flavor     amazon\n",
       "4     coffee     product        tea\n",
       "5    product        food       like\n",
       "6        eat  ingredient      order\n",
       "7       like       sugar      taste\n",
       "8       chew        good         br\n",
       "9    chicken  taste like      price\n",
       "10       cat       tried       item\n",
       "11      bone       water        bag\n",
       "12       pet         cat        buy\n",
       "13      baby        dont    ordered\n",
       "14        br      really   received\n",
       "15  dog food         eat  chocolate\n",
       "16       bag       stuff       good\n",
       "17      time         try       time\n",
       "18       buy         bad      money\n",
       "19    bought       drink       dont"
      ]
     },
     "execution_count": 12,
     "metadata": {},
     "output_type": "execute_result"
    }
   ],
   "source": [
    "feature_names = tv.get_feature_names()\n",
    "num_words = 20\n",
    "all_topics = {}\n",
    "for idx, topic in enumerate(best_model.components_):\n",
    "    all_topics[\"Topic %d\"%(idx+1)]= ['{}'.format(feature_names[i])\n",
    "                        for i in topic.argsort()[:-num_words - 1:-1]]\n",
    "    \n",
    "topics = pd.DataFrame(all_topics)\n",
    "topics"
   ]
  }
 ],
 "metadata": {
  "kernelspec": {
   "display_name": "Python 3",
   "language": "python",
   "name": "python3"
  },
  "language_info": {
   "codemirror_mode": {
    "name": "ipython",
    "version": 3
   },
   "file_extension": ".py",
   "mimetype": "text/x-python",
   "name": "python",
   "nbconvert_exporter": "python",
   "pygments_lexer": "ipython3",
   "version": "3.7.6"
  },
  "toc": {
   "base_numbering": 1,
   "nav_menu": {},
   "number_sections": true,
   "sideBar": true,
   "skip_h1_title": false,
   "title_cell": "Table of Contents",
   "title_sidebar": "Contents",
   "toc_cell": false,
   "toc_position": {},
   "toc_section_display": true,
   "toc_window_display": false
  },
  "varInspector": {
   "cols": {
    "lenName": 16,
    "lenType": 16,
    "lenVar": 40
   },
   "kernels_config": {
    "python": {
     "delete_cmd_postfix": "",
     "delete_cmd_prefix": "del ",
     "library": "var_list.py",
     "varRefreshCmd": "print(var_dic_list())"
    },
    "r": {
     "delete_cmd_postfix": ") ",
     "delete_cmd_prefix": "rm(",
     "library": "var_list.r",
     "varRefreshCmd": "cat(var_dic_list()) "
    }
   },
   "types_to_exclude": [
    "module",
    "function",
    "builtin_function_or_method",
    "instance",
    "_Feature"
   ],
   "window_display": false
  }
 },
 "nbformat": 4,
 "nbformat_minor": 4
}
